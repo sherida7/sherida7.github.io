{
  "nbformat": 4,
  "nbformat_minor": 0,
  "metadata": {
    "colab": {
      "provenance": [],
      "collapsed_sections": []
    },
    "kernelspec": {
      "name": "python3",
      "display_name": "Python 3"
    },
    "language_info": {
      "name": "python"
    }
  },
  "cells": [
    {
      "cell_type": "markdown",
      "source": [
        "#Lectures 8: DOE by Taguchi and Fractional Factorial and ANOVA\n",
        "\n",
        "\n",
        "This notebook accompanies the ECE595 Data analytics course taught at Purdue in Fall 2022. These set of examples pertain to the materials of lecture 08.\n",
        "\n",
        "Written by Rohan Sheridan (sherida7@purdue.edu)"
      ],
      "metadata": {
        "id": "Srlkrj54x8oY"
      }
    },
    {
      "cell_type": "code",
      "source": [
        "import numpy as np\n",
        "import matplotlib.pyplot as plt\n",
        "import operator\n",
        "import collections\n",
        "from sklearn.linear_model import LinearRegression\n",
        "from scipy import stats\n",
        "\n",
        "import matplotlib.patches as mpatches\n",
        "import matplotlib.lines as mlines\n",
        "\n"
      ],
      "metadata": {
        "id": "Qrtaq1RwOtZO"
      },
      "execution_count": 69,
      "outputs": []
    },
    {
      "cell_type": "code",
      "execution_count": 2,
      "metadata": {
        "colab": {
          "base_uri": "https://localhost:8080/"
        },
        "id": "p4tpFATKORae",
        "outputId": "1c753806-8101-45a7-cd22-4003fe750695"
      },
      "outputs": [
        {
          "output_type": "stream",
          "name": "stdout",
          "text": [
            "[['-1.0' '-1.0' '1.0' '-1.0' '1.0' '1.0' '-1.0' '(1)' '67.0']\n",
            " ['1.0' '-1.0' '-1.0' '-1.0' '-1.0' '1.0' '1.0' 'a' '79.0']\n",
            " ['-1.0' '1.0' '-1.0' '-1.0' '1.0' '-1.0' '1.0' 'b' '61.0']\n",
            " ['1.0' '1.0' '1.0' '-1.0' '-1.0' '-1.0' '-1.0' 'ab' '75.0']\n",
            " ['-1.0' '-1.0' '1.0' '1.0' '-1.0' '-1.0' '1.0' 'c' '59.0']\n",
            " ['1.0' '-1.0' '-1.0' '1.0' '1.0' '-1.0' '-1.0' 'ac' '90.0']\n",
            " ['-1.0' '1.0' '-1.0' '1.0' '-1.0' '1.0' '-1.0' 'bc' '52.0']\n",
            " ['1.0' '1.0' '1.0' '1.0' '1.0' '1.0' '1.0' 'abc' '87.0']]\n",
            "\n",
            "\n",
            "\n",
            "Factor:  ['B' 'AC' 'ABC' 'C' 'AB' 'BC' 'A'] \n",
            "Effect:  [-5.   0.   0.5  1.5  1.5 10.  23. ] \n",
            "\n"
          ]
        }
      ],
      "source": [
        "## Set up the arrays for 3 factor, 2 level problem\n",
        "\n",
        "x =   np.asarray([[-1., -1.,  1., -1.,  1.,  1., -1.],\n",
        "                  [ 1., -1., -1., -1., -1.,  1.,  1.],\n",
        "                  [-1.,  1., -1., -1.,  1., -1.,  1.],\n",
        "                  [ 1.,  1.,  1., -1., -1., -1., -1.],\n",
        "                  [-1., -1.,  1.,  1., -1., -1.,  1.],\n",
        "                  [ 1., -1., -1.,  1.,  1., -1., -1.],\n",
        "                  [-1.,  1., -1.,  1., -1.,  1., -1.],\n",
        "                  [ 1.,  1.,  1.,  1.,  1.,  1.,  1.]])\n",
        "\n",
        "## y array created to help visualize table when printed\n",
        "\n",
        "y = np.transpose(np.asarray(\n",
        "    [['(1)','a','b','ab','c','ac','bc','abc'],\n",
        "     [67., 79., 61., 75., 59., 90., 52., 87.]]))\n",
        "\n",
        " \n",
        "print(np.append(x,y,axis=1))\n",
        "\n",
        "\n",
        "## Remove row labels becuase it affects array data type\n",
        "## Strings in array force entire array to have string data type\n",
        "## Cannot multiply strings and floats...\n",
        "\n",
        "y = np.transpose(np.asarray(\n",
        "     [[67., 79., 61., 75., 59., 90., 52., 87.]]))\n",
        "\n",
        "\n",
        "vars = ['A','B','C','AB','BC','AC','ABC']\n",
        "\n",
        "effects = {}\n",
        "\n",
        "## initialize effects dictionary\n",
        "\n",
        "for var in vars:\n",
        "\n",
        "  effects[var] = 0\n",
        "\n",
        "print(\"\\n\")\n",
        "\n",
        "## to calculate the value associated with each factor \n",
        "## we take a dot protect between the values in a factor's column\n",
        "## and the y column vector\n",
        "\n",
        "\n",
        "for i in range(len(vars)):\n",
        "\n",
        "  effect = np.dot(x[:,i],y)/4\n",
        "\n",
        "  effects[vars[i]] = effect[0]\n",
        "\n",
        "\n",
        "## After all factor values are calculated we should sort the dictonary\n",
        "## based on value\n",
        "\n",
        "effects = np.asarray(sorted(effects.items(), \n",
        "                       key=operator.itemgetter(1)))\n",
        "\n",
        "\n",
        "label = effects[:,0]\n",
        "value = effects[:,1].astype('float')\n",
        "\n",
        "print(\"\\nFactor: \", label,\n",
        "      \"\\nEffect: \", value, '\\n')"
      ]
    },
    {
      "cell_type": "code",
      "source": [
        "## Now we can perform statistical anaylsis on the values we got\n",
        "## Calculate everything we need first, then plot\n",
        "\n",
        "\n",
        "## set up the values of i to calculate Hazen CDF\n",
        "i = np.arange(1,len(value)+1,1)\n",
        "\n",
        "## Calculate Hazen CDF\n",
        "fi = (i - 0.5)/(len(value))\n",
        "\n",
        "## Calculate norm PDF values\n",
        "qi = 4.91*(fi**(0.14) - (1 - fi)**(0.14))\n",
        "\n",
        "## based of qi, find IQR bounderies\n",
        "## We only want to do a linear fit on the qi values with the IQR\n",
        "## lower is the 25th precentile and upper is the 75th precentile\n",
        "lower,upper = np.quantile(qi,  [0.25, 0.75])\n",
        "\n",
        "## initalize empty arrays for linear fit\n",
        "xtrain = []\n",
        "ytrain = []\n",
        "\n",
        "## Only append x,y pairs for which qi is within the IQR\n",
        "for x,y in zip(value,qi):\n",
        "\n",
        "  if (lower<y and y<upper):\n",
        "\n",
        "    ytrain.append(y)\n",
        "    xtrain.append(x)\n",
        "\n",
        "\n",
        "## convert lists to np array and reshape for fitting\n",
        "xtrain = np.asarray(xtrain).reshape(-1, 1)\n",
        "ytrain = np.asarray(ytrain).reshape(-1, 1)\n",
        "\n",
        "## fit the data and obtain a prediction/fit line\n",
        "reg = LinearRegression().fit(xtrain, ytrain)\n",
        "yfit = reg.coef_*value + reg.intercept_\n",
        "\n",
        "\n",
        "## This part is not necessary, but is nice for data visualization\n",
        "## We want to take the qi values and fit a normal gaussian\n",
        "## if we plot the fitted gaussian ontop of the qi values\n",
        "## you can see which values are on the edge of the distibution\n",
        "## these are outliers are therefore significant ...\n",
        "\n",
        "loc, scale = stats.norm.fit(xtrain) # fit based on values in iqr\n",
        "normRv = stats.norm(loc,scale)\n",
        "xnorm =  x = np.linspace(normRv.ppf(10**-12),\n",
        "                 normRv.ppf(1-10**-12), 100)\n",
        "\n",
        "ynorm = stats.norm.pdf(xnorm, loc, scale)\n",
        "\n",
        "\n",
        "## The rest is just for plotting\n",
        "\n",
        "plt.figure(1,(7,5))\n",
        "\n",
        "plt.scatter(value,qi,\n",
        "            c='w',edgecolors='black',s=100)\n",
        "\n",
        "plt.plot(value,yfit[0,:],ls='--',linewidth = 3)\n",
        "\n",
        "offset = 0.1\n",
        "plt.ylim([min(qi) - offset,\n",
        "          max(qi) + offset])\n",
        "\n",
        "plt.tick_params(axis='both', which='major', labelsize=12)\n",
        "\n",
        "plt.yticks([])\n",
        "plt.ylabel(\"Zi\", fontsize = 14,\n",
        "           labelpad = 15, rotation = 'horizontal')\n",
        "plt.xlabel(\"Factor Value\", fontsize = 14)\n",
        "\n",
        "plt.title(\"Normal Plot\", fontsize=16)\n",
        "\n",
        "plt.show()\n",
        "\n",
        "print('\\n\\n')\n",
        "\n",
        "\n",
        "\n",
        "fig, ax = plt.subplots()\n",
        "fig.canvas.draw()\n",
        "\n",
        "fig.set_size_inches((5,7))\n",
        "\n",
        "ax.boxplot(value)\n",
        "\n",
        "val = ax.scatter(0*value,value,\n",
        "            c='w',edgecolors='black',s=100)\n",
        "\n",
        "\n",
        "nrm, = ax.plot(ynorm/max(2*ynorm),xnorm,linewidth = 2,\n",
        "                      c = 'b',alpha = 0.5)\n",
        "\n",
        "offset = 2\n",
        "\n",
        "ax.set_ylim([min(value) - offset,\n",
        "          max(value) + offset])\n",
        "\n",
        "\n",
        "ax.legend([val, nrm], [\"Effect\", \"Noise\"])\n",
        "ax.tick_params(axis='both', which='major', labelsize=12)\n",
        "ax.set_xticklabels([])\n",
        "ax.set_ylabel(\"Factor Value\", fontsize = 14)\n",
        "ax.set_title(\"Box Plot and 1D Scatter with Normal Fit\", \n",
        "             fontsize = 16,pad = 10)\n",
        "\n",
        "\n",
        "plt.show()\n",
        "\n",
        "print('\\n\\n')\n"
      ],
      "metadata": {
        "colab": {
          "base_uri": "https://localhost:8080/",
          "height": 881
        },
        "id": "0JU86Ehkojsp",
        "outputId": "9cadf71a-17e7-4873-a8c2-2902c9912a9b"
      },
      "execution_count": 158,
      "outputs": [
        {
          "output_type": "display_data",
          "data": {
            "text/plain": [
              "<Figure size 504x360 with 1 Axes>"
            ],
            "image/png": "[encoded data removed]"
          },
          "metadata": {
            "needs_background": "light"
          }
        },
        {
          "output_type": "stream",
          "name": "stdout",
          "text": [
            "\n",
            "\n",
            "\n"
          ]
        },
        {
          "output_type": "display_data",
          "data": {
            "text/plain": [
              "<Figure size 360x504 with 1 Axes>"
            ],
            "image/png": "[encoded data removed]"
          },
          "metadata": {
            "needs_background": "light"
          }
        },
        {
          "output_type": "stream",
          "name": "stdout",
          "text": [
            "\n",
            "\n",
            "\n"
          ]
        }
      ]
    }
  ]
}